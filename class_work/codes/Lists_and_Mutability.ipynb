{
 "cells": [
  {
   "cell_type": "markdown",
   "metadata": {},
   "source": [
    "# Lists and Mutability"
   ]
  },
  {
   "cell_type": "markdown",
   "metadata": {},
   "source": [
    "### We thought we understood everything there was to know about lists. Let's see."
   ]
  },
  {
   "cell_type": "code",
   "execution_count": 1,
   "metadata": {},
   "outputs": [
    {
     "name": "stdout",
     "output_type": "stream",
     "text": [
      "x= 34  y= 34\n"
     ]
    }
   ],
   "source": [
    "x = 34\n",
    "y = x\n",
    "print(\"x=\",x ,\" y=\",y)"
   ]
  },
  {
   "cell_type": "code",
   "execution_count": 2,
   "metadata": {},
   "outputs": [
    {
     "name": "stdout",
     "output_type": "stream",
     "text": [
      "x = 34  y= 20\n"
     ]
    }
   ],
   "source": [
    "y = 20\n",
    "print(\"x =\",x ,\" y=\",y)"
   ]
  },
  {
   "cell_type": "code",
   "execution_count": 3,
   "metadata": {},
   "outputs": [],
   "source": [
    "mammals = ['cat', 'kangaroo', 'horse']\n",
    "fish    = ['tuna', 'shark', 'catfish']"
   ]
  },
  {
   "cell_type": "code",
   "execution_count": 4,
   "metadata": {},
   "outputs": [
    {
     "name": "stdout",
     "output_type": "stream",
     "text": [
      "[['cat', 'kangaroo', 'horse'], ['tuna', 'shark', 'catfish']]\n"
     ]
    }
   ],
   "source": [
    "animals = [mammals, fish]\n",
    "print(animals)"
   ]
  },
  {
   "cell_type": "code",
   "execution_count": 5,
   "metadata": {},
   "outputs": [
    {
     "name": "stdout",
     "output_type": "stream",
     "text": [
      "mammals =  ['mule', 'kangaroo', 'horse']\n",
      "animals =  [['mule', 'kangaroo', 'horse'], ['tuna', 'shark', 'catfish']]\n"
     ]
    }
   ],
   "source": [
    "mammals[0] = 'mule'\n",
    "print(\"mammals = \", mammals)\n",
    "print(\"animals = \",animals)"
   ]
  },
  {
   "cell_type": "markdown",
   "metadata": {},
   "source": [
    "## Let's see in the tutor"
   ]
  },
  {
   "cell_type": "code",
   "execution_count": 7,
   "metadata": {},
   "outputs": [
    {
     "name": "stdout",
     "output_type": "stream",
     "text": [
      "mammals_2 =  ['dog', 'kangaroo', 'horse']\n",
      "mammals   =  ['dog', 'kangaroo', 'horse']\n",
      "animals   =  [['dog', 'kangaroo', 'horse'], ['tuna', 'shark', 'catfish']]\n"
     ]
    }
   ],
   "source": [
    "mammals_2 = mammals\n",
    "mammals_2[0] = 'dog'\n",
    "print(\"mammals_2 = \", mammals_2)\n",
    "print(\"mammals   = \", mammals)\n",
    "print(\"animals   = \", animals)"
   ]
  },
  {
   "cell_type": "markdown",
   "metadata": {},
   "source": [
    "## So, it's the same list with different names! But can't we make a  copy of the list?"
   ]
  },
  {
   "cell_type": "code",
   "execution_count": 8,
   "metadata": {},
   "outputs": [],
   "source": [
    "mammals_3 = mammals[:]   # this creates a copy!"
   ]
  },
  {
   "cell_type": "code",
   "execution_count": 9,
   "metadata": {},
   "outputs": [
    {
     "name": "stdout",
     "output_type": "stream",
     "text": [
      "mammals_3 =  ['mouse', 'kangaroo', 'horse']\n",
      "mammals   =  ['dog', 'kangaroo', 'horse']\n",
      "animals   =  [['dog', 'kangaroo', 'horse'], ['tuna', 'shark', 'catfish']]\n"
     ]
    }
   ],
   "source": [
    "mammals_3[0] = 'mouse'\n",
    "print(\"mammals_3 = \", mammals_3)\n",
    "print(\"mammals   = \", mammals)\n",
    "print(\"animals   = \", animals)"
   ]
  },
  {
   "cell_type": "markdown",
   "metadata": {},
   "source": [
    "## Let's see this in the tutor again!"
   ]
  },
  {
   "cell_type": "markdown",
   "metadata": {},
   "source": [
    "### But it gets better (or worst, depending on how you look at it) ..."
   ]
  },
  {
   "cell_type": "code",
   "execution_count": 10,
   "metadata": {},
   "outputs": [],
   "source": [
    "s1 = ['student 1', 'Ali', 'Khan']\n",
    "s2 = ['student 2', 'Zia', 'Farooq']\n",
    "s3 = ['student 3', 'Hadi', 'Zaman']"
   ]
  },
  {
   "cell_type": "code",
   "execution_count": 11,
   "metadata": {},
   "outputs": [
    {
     "name": "stdout",
     "output_type": "stream",
     "text": [
      "[['student 1', 'Ali', 'Khan'], ['student 2', 'Zia', 'Farooq'], ['student 3', 'Hadi', 'Zaman']]\n"
     ]
    }
   ],
   "source": [
    "students = [s1, s2, s3]\n",
    "print(students)"
   ]
  },
  {
   "cell_type": "code",
   "execution_count": 12,
   "metadata": {},
   "outputs": [
    {
     "name": "stdout",
     "output_type": "stream",
     "text": [
      "[['student 1', 'Ali', 'Khan'], ['student 2', 'Zia', 'Farooq'], ['student 3', 'Hadi', 'Zaman']]\n"
     ]
    }
   ],
   "source": [
    "students_copy = students[:]\n",
    "print(students_copy)"
   ]
  },
  {
   "cell_type": "code",
   "execution_count": 13,
   "metadata": {},
   "outputs": [
    {
     "name": "stdout",
     "output_type": "stream",
     "text": [
      "[['student 1 changed', 'Ali', 'Khan'], ['student 2', 'Zia', 'Farooq'], ['student 3', 'Hadi', 'Zaman']]\n",
      "[['student 1 changed', 'Ali', 'Khan'], ['student 2', 'Zia', 'Farooq'], ['student 3', 'Hadi', 'Zaman']]\n"
     ]
    }
   ],
   "source": [
    "students_copy[0][0] = 'student 1 changed'\n",
    "print(students_copy)\n",
    "print(students)"
   ]
  },
  {
   "cell_type": "markdown",
   "metadata": {},
   "source": [
    "# Ok, that was unexpected. Let's go back to the tutor"
   ]
  },
  {
   "cell_type": "markdown",
   "metadata": {},
   "source": [
    "## Basically, students_copy carries the addresses of the lists not the actual lists "
   ]
  },
  {
   "cell_type": "markdown",
   "metadata": {},
   "source": [
    "# Deep Copying"
   ]
  },
  {
   "cell_type": "code",
   "execution_count": 14,
   "metadata": {},
   "outputs": [],
   "source": [
    "import copy"
   ]
  },
  {
   "cell_type": "code",
   "execution_count": 15,
   "metadata": {},
   "outputs": [],
   "source": [
    "students_3 = copy.deepcopy(students)"
   ]
  },
  {
   "cell_type": "code",
   "execution_count": 16,
   "metadata": {},
   "outputs": [
    {
     "name": "stdout",
     "output_type": "stream",
     "text": [
      "[['student 1 changed', 'Ali', 'Khan'], ['student 2', 'Zia', 'Farooq'], ['student 3', 'Hadi', 'Zaman']]\n",
      "------------\n",
      "[['student 1 changed again', 'Ali', 'Khan'], ['student 2', 'Zia', 'Farooq'], ['student 3', 'Hadi', 'Zaman']]\n"
     ]
    }
   ],
   "source": [
    "students[0][0] = 'student 1 changed again'\n",
    "print(students_3)\n",
    "print(\"------------\")\n",
    "print(students)"
   ]
  },
  {
   "cell_type": "markdown",
   "metadata": {},
   "source": [
    "# Passing lists as arguments\n",
    "\n",
    "### Finally, let's see what happens when we pass a list to a function."
   ]
  },
  {
   "cell_type": "code",
   "execution_count": 17,
   "metadata": {},
   "outputs": [],
   "source": [
    "def change_var(x):\n",
    "    x = x + 1\n",
    "    \n",
    "def change_list(lst):\n",
    "    lst.append(24)"
   ]
  },
  {
   "cell_type": "code",
   "execution_count": 18,
   "metadata": {},
   "outputs": [
    {
     "name": "stdout",
     "output_type": "stream",
     "text": [
      "25\n"
     ]
    }
   ],
   "source": [
    "x = 25\n",
    "change_var(x)\n",
    "print(x)      # our global x remains the same"
   ]
  },
  {
   "cell_type": "code",
   "execution_count": 19,
   "metadata": {},
   "outputs": [
    {
     "name": "stdout",
     "output_type": "stream",
     "text": [
      "['student 2', 'Zia', 'Farooq']\n",
      "['student 2', 'Zia', 'Farooq', 24]\n"
     ]
    }
   ],
   "source": [
    "print(s2)\n",
    "change_list(s2)\n",
    "print(s2) # but the list is affected!"
   ]
  },
  {
   "cell_type": "markdown",
   "metadata": {},
   "source": [
    "# Ok, weird. Let's go back to the tutor."
   ]
  },
  {
   "cell_type": "markdown",
   "metadata": {},
   "source": [
    "### And that's why we have tuples as immutable .. so that called functions are guaranteed to not change them."
   ]
  },
  {
   "cell_type": "code",
   "execution_count": null,
   "metadata": {},
   "outputs": [],
   "source": []
  }
 ],
 "metadata": {
  "kernelspec": {
   "display_name": "Python 3",
   "language": "python",
   "name": "python3"
  },
  "language_info": {
   "codemirror_mode": {
    "name": "ipython",
    "version": 3
   },
   "file_extension": ".py",
   "mimetype": "text/x-python",
   "name": "python",
   "nbconvert_exporter": "python",
   "pygments_lexer": "ipython3",
   "version": "3.8.10"
  }
 },
 "nbformat": 4,
 "nbformat_minor": 4
}
