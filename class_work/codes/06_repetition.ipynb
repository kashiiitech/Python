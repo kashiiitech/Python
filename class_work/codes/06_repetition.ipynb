{
 "cells": [
  {
   "cell_type": "markdown",
   "metadata": {
    "slideshow": {
     "slide_type": "slide"
    }
   },
   "source": [
    "## Iteration, Repetition, Loops "
   ]
  },
  {
   "cell_type": "markdown",
   "metadata": {
    "slideshow": {
     "slide_type": "slide"
    }
   },
   "source": [
    "Sometimes, you want to do things more than once. "
   ]
  },
  {
   "cell_type": "code",
   "execution_count": 1,
   "metadata": {},
   "outputs": [
    {
     "name": "stdout",
     "output_type": "stream",
     "text": [
      "Put milk in.\n",
      "Put sugar in.\n",
      "Put tea leaves in.\n"
     ]
    }
   ],
   "source": [
    "print('Put milk in.')\n",
    "print('Put sugar in.')\n",
    "print('Put tea leaves in.')"
   ]
  },
  {
   "cell_type": "markdown",
   "metadata": {
    "slideshow": {
     "slide_type": "slide"
    }
   },
   "source": [
    "However, that's a lot of wastage of our time. \"A good programmer is a lazy programmer!\""
   ]
  },
  {
   "cell_type": "code",
   "execution_count": 3,
   "metadata": {
    "slideshow": {
     "slide_type": "slide"
    }
   },
   "outputs": [
    {
     "name": "stdout",
     "output_type": "stream",
     "text": [
      "Put sugar in.\n",
      "Put milk in.\n",
      "Put tea leaves in.\n",
      "Put water in.\n"
     ]
    }
   ],
   "source": [
    "for ingredient in 'sugar', 'milk', 'tea leaves', 'water': \n",
    "    print(\"Put\", ingredient, 'in.')"
   ]
  },
  {
   "cell_type": "markdown",
   "metadata": {},
   "source": [
    "Let's see this in the tutor first. \n",
    "\n",
    "This is a compound statement that \"loops\" over the body. This particular type, surprisingly, is termed as the \"for loop\". It knows how many times we have to run the loop. "
   ]
  },
  {
   "cell_type": "code",
   "execution_count": 4,
   "metadata": {
    "slideshow": {
     "slide_type": "slide"
    }
   },
   "outputs": [
    {
     "name": "stdout",
     "output_type": "stream",
     "text": [
      "Put sugar in.\n",
      "Put milk in.\n",
      "Put tea leaves in.\n",
      "Put water in.\n",
      "Outside loop:  water\n"
     ]
    }
   ],
   "source": [
    "for ingredient in 'sugar', 'milk', 'tea leaves', 'water': \n",
    "    print(\"Put\", ingredient, \"in.\")\n",
    "    \n",
    "print(\"Outside loop: \", ingredient)\n",
    "n = 10# But we made doodh-patti! "
   ]
  },
  {
   "cell_type": "markdown",
   "metadata": {},
   "source": [
    "## break waro jithe uha condition true thi wendii ahe ute uho function break matlab ute uho function khatam kare chadindo ahe "
   ]
  },
  {
   "cell_type": "code",
   "execution_count": 7,
   "metadata": {},
   "outputs": [
    {
     "name": "stdout",
     "output_type": "stream",
     "text": [
      "1\n",
      "2\n",
      "3\n",
      "4\n",
      "done\n"
     ]
    }
   ],
   "source": [
    "n = 100\n",
    "for i in range(1,n):\n",
    "    if i % 5 == 0:\n",
    "        break\n",
    "        \n",
    "    print(i)\n",
    "        \n",
    "print(\"done\")"
   ]
  },
  {
   "cell_type": "markdown",
   "metadata": {},
   "source": [
    "## continue waro jithe use thiyal hundo ahe po jeka condition hundi ahe uha agar true thi wendii ahe ta un khe skip kare agte halando ahe"
   ]
  },
  {
   "cell_type": "code",
   "execution_count": 5,
   "metadata": {
    "slideshow": {
     "slide_type": "slide"
    }
   },
   "outputs": [
    {
     "name": "stdout",
     "output_type": "stream",
     "text": [
      "1\n",
      "2\n",
      "3\n",
      "4\n",
      "6\n",
      "7\n",
      "8\n",
      "9\n",
      "11\n",
      "12\n",
      "13\n",
      "14\n",
      "16\n",
      "17\n",
      "18\n",
      "19\n",
      "21\n",
      "22\n",
      "23\n",
      "24\n",
      "26\n",
      "27\n",
      "28\n",
      "29\n",
      "31\n",
      "32\n",
      "33\n",
      "34\n",
      "36\n",
      "37\n",
      "38\n",
      "39\n",
      "41\n",
      "42\n",
      "43\n",
      "44\n",
      "46\n",
      "47\n",
      "48\n",
      "49\n",
      "51\n",
      "52\n",
      "53\n",
      "54\n",
      "56\n",
      "57\n",
      "58\n",
      "59\n",
      "61\n",
      "62\n",
      "63\n",
      "64\n",
      "66\n",
      "67\n",
      "68\n",
      "69\n",
      "71\n",
      "72\n",
      "73\n",
      "74\n",
      "76\n",
      "77\n",
      "78\n",
      "79\n",
      "81\n",
      "82\n",
      "83\n",
      "84\n",
      "86\n",
      "87\n",
      "88\n",
      "89\n",
      "91\n",
      "92\n",
      "93\n",
      "94\n",
      "96\n",
      "97\n",
      "98\n",
      "99\n",
      "done\n"
     ]
    }
   ],
   "source": [
    "n = 100\n",
    "for i in range(1, n):   # loop over a few numbers \n",
    "        if i % 5 == 0:\n",
    "            continue\n",
    "            \n",
    "        print(i)\n",
    "\n",
    "print(\"done\")"
   ]
  },
  {
   "cell_type": "markdown",
   "metadata": {},
   "source": [
    "# for loop men asan khe khabar hundii ahe ta asan kadi tha wanjo aen ketra steps men ute puhchno ahe par kadenh kadenh asan khe khabar na hundi ahe ta asan khe ketra step men puhchno ahe par eha khabar hundi ahe ta ketran steps men puhchno ahe un waqt asan while loop istamal kanda ahyun while loop men asan khe eha khabar hundii ahe ta kathe stop karno ahe ."
   ]
  },
  {
   "cell_type": "markdown",
   "metadata": {
    "slideshow": {
     "slide_type": "slide"
    }
   },
   "source": [
    "\n",
    "Sometimes, we don't know how many times to run the loop ...\n",
    "\n",
    "... but we do know when to stop. This is called the \"while loop\". \n",
    "\n",
    "For example, we want to print all multiples of 0.13 from 0 to 1. But we don't know how many of those there are. "
   ]
  },
  {
   "cell_type": "code",
   "execution_count": 12,
   "metadata": {
    "slideshow": {
     "slide_type": "slide"
    }
   },
   "outputs": [
    {
     "name": "stdout",
     "output_type": "stream",
     "text": [
      "1\n",
      "2\n",
      "3\n",
      "4\n",
      "5\n",
      "6\n",
      "7\n",
      "counter:  7\n",
      "Done.\n"
     ]
    }
   ],
   "source": [
    "n = 0.13 \n",
    "counter = 0\n",
    "\n",
    "while n < 1 :\n",
    "    counter = counter + 1\n",
    "    print(n) \n",
    "    n = n + 0.13 \n",
    "\n",
    "print(\"counter: \", counter)\n",
    "print('Done.')"
   ]
  },
  {
   "cell_type": "markdown",
   "metadata": {},
   "source": [
    "Back to the tutor! "
   ]
  },
  {
   "cell_type": "code",
   "execution_count": null,
   "metadata": {},
   "outputs": [],
   "source": [
    "# we can also count how many there were by saving the count\n",
    "n = 0.13 \n",
    "i = 0         # our counter \n",
    "\n",
    "while n < 1: \n",
    "    i = i + 1\n",
    "    print(n) \n",
    "    n = n + 0.13 \n",
    "\n",
    "print(i) \n",
    "print('Done.')"
   ]
  },
  {
   "cell_type": "code",
   "execution_count": 8,
   "metadata": {
    "slideshow": {
     "slide_type": "slide"
    }
   },
   "outputs": [
    {
     "name": "stdout",
     "output_type": "stream",
     "text": [
      "0.13\n",
      "0.26\n",
      "0.39\n",
      "0.52\n",
      "0.65\n",
      "0.78\n",
      "0.91\n",
      "1.04\n",
      "1.17\n",
      "1.2999999999999998\n",
      "11\n",
      "Done.\n"
     ]
    }
   ],
   "source": [
    "# we can also count how many there were by saving the count\n",
    "n = 0.13 \n",
    "i = 1       # our counter \n",
    "\n",
    "while i < 11: \n",
    "    i = i + 1\n",
    "    print(n)\n",
    "    n = n + 0.13 \n",
    "\n",
    "\n",
    "print(i) \n",
    "print('Done.')"
   ]
  },
  {
   "cell_type": "markdown",
   "metadata": {
    "slideshow": {
     "slide_type": "slide"
    }
   },
   "source": [
    "In C: \n",
    "    \n",
    "<img align='left' src='imgs/c-while.png' width='250px' /> "
   ]
  },
  {
   "cell_type": "markdown",
   "metadata": {
    "slideshow": {
     "slide_type": "slide"
    }
   },
   "source": [
    "### Factorial "
   ]
  },
  {
   "cell_type": "markdown",
   "metadata": {},
   "source": [
    "Factorial is a useful function. (It is used to calculate `sin`, `cos` and in several series as well as to calculate number of permutations etc.) \n",
    "\n",
    "Factorial of a number is the multiplication of all integers up to that number. For example, \n",
    "\n",
    "$$\\text{fact}(4) = 4 \\times 3 \\times 2 \\times 1 = 24$$\n",
    "\n"
   ]
  },
  {
   "cell_type": "markdown",
   "metadata": {},
   "source": [
    "Let's move to the slides to see how we want to formalize this problem. "
   ]
  },
  {
   "cell_type": "code",
   "execution_count": 13,
   "metadata": {
    "slideshow": {
     "slide_type": "slide"
    }
   },
   "outputs": [
    {
     "name": "stdout",
     "output_type": "stream",
     "text": [
      "24\n"
     ]
    }
   ],
   "source": [
    "fac = 1    # typically, the iteration variable is called i or j or k \n",
    "\n",
    "i = 1 \n",
    "\n",
    "while i <= 4 : \n",
    "    fac = fac * i\n",
    "    i = i + 1 \n",
    "    \n",
    "print(fac) "
   ]
  },
  {
   "cell_type": "markdown",
   "metadata": {
    "collapsed": true
   },
   "source": [
    "## Reading Assignment \n",
    "\n",
    "* Section *2.4 Iteration* from the Guttag's python book. "
   ]
  },
  {
   "cell_type": "markdown",
   "metadata": {
    "collapsed": true,
    "slideshow": {
     "slide_type": "slide"
    }
   },
   "source": [
    "### Fibonacci Numbers\n",
    "\n",
    "Fibonacci numbers are quite useful. Here's what they look like: $ 0, 1, 1, 2, 3, 5, 8, 13, 21, \\ldots $\n",
    "\n",
    "$ \\textrm{fib}(0) = 0 $ \n",
    "\n",
    "$ \\textrm{fib}(1) = 1 $ \n",
    "\n",
    "$ \\textrm{fib}(n) = \\textrm{fib}(n-1) + \\textrm{fib}(n-2) $ \n",
    "\n",
    "What good are those, you ask? "
   ]
  },
  {
   "cell_type": "markdown",
   "metadata": {
    "slideshow": {
     "slide_type": "slide"
    }
   },
   "source": [
    "<img src='imgs/golden-ratio-fibonacci-sequence.jpg' width='400px' />\n",
    "\n",
    "And what good is _that_, you ask? "
   ]
  },
  {
   "cell_type": "markdown",
   "metadata": {
    "slideshow": {
     "slide_type": "slide"
    }
   },
   "source": [
    "<img src='imgs/golden-ratio-photo1.jpg' width='400px' />\n"
   ]
  },
  {
   "cell_type": "markdown",
   "metadata": {
    "slideshow": {
     "slide_type": "slide"
    }
   },
   "source": [
    "Or ... \n",
    "\n",
    "<img src='imgs/golden-ratio-twitter1.png' width='400px' />\n"
   ]
  },
  {
   "cell_type": "code",
   "execution_count": null,
   "metadata": {
    "slideshow": {
     "slide_type": "slide"
    }
   },
   "outputs": [],
   "source": [
    "def fib(n): \n",
    "    if n == 0 or n == 1 :\n",
    "        return n \n",
    "    \n",
    "    else: \n",
    "        return fib(n-1) + fib(n-2)"
   ]
  },
  {
   "cell_type": "code",
   "execution_count": null,
   "metadata": {
    "slideshow": {
     "slide_type": "fragment"
    }
   },
   "outputs": [],
   "source": [
    "fib(20)   # Let's also try 2, 3, 5, 7, 10"
   ]
  },
  {
   "cell_type": "markdown",
   "metadata": {
    "slideshow": {
     "slide_type": "fragment"
    }
   },
   "source": [
    "Let's see `v = fib(3)` in tutor but let's split the return into `a` and `b`."
   ]
  },
  {
   "cell_type": "code",
   "execution_count": null,
   "metadata": {
    "slideshow": {
     "slide_type": "slide"
    }
   },
   "outputs": [],
   "source": [
    "%time fib(37)  # this will take a bit of time (but let's fix that later)"
   ]
  },
  {
   "cell_type": "code",
   "execution_count": null,
   "metadata": {
    "slideshow": {
     "slide_type": "slide"
    }
   },
   "outputs": [],
   "source": [
    "def fibnew(n): \n",
    "    if n <= 1: return n \n",
    " \n",
    "    a, b = 0, 1 \n",
    "    \n",
    "    for i in range(1, 8):\n",
    "        a, b = b, a + b\n",
    "        \n",
    "    return a"
   ]
  },
  {
   "cell_type": "code",
   "execution_count": null,
   "metadata": {
    "slideshow": {
     "slide_type": "fragment"
    }
   },
   "outputs": [],
   "source": [
    "0  1  1   2  3  5  8  13  21\n",
    "                      a    b"
   ]
  },
  {
   "cell_type": "code",
   "execution_count": null,
   "metadata": {
    "slideshow": {
     "slide_type": "slide"
    }
   },
   "outputs": [],
   "source": [
    "%time fibnew(10000)"
   ]
  },
  {
   "cell_type": "markdown",
   "metadata": {},
   "source": [
    "## Reading Assignment \n",
    "\n",
    "Read up on PEP 8 -- Style Guide for Python Code https://www.python.org/dev/peps/pep-0008/ "
   ]
  }
 ],
 "metadata": {
  "celltoolbar": "Slideshow",
  "kernelspec": {
   "display_name": "Python 3",
   "language": "python",
   "name": "python3"
  },
  "language_info": {
   "codemirror_mode": {
    "name": "ipython",
    "version": 3
   },
   "file_extension": ".py",
   "mimetype": "text/x-python",
   "name": "python",
   "nbconvert_exporter": "python",
   "pygments_lexer": "ipython3",
   "version": "3.8.3"
  },
  "livereveal": {
   "transition": "fade"
  }
 },
 "nbformat": 4,
 "nbformat_minor": 2
}
